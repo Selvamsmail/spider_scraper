{
 "cells": [
  {
   "cell_type": "code",
   "execution_count": 2,
   "id": "c8d3dd1d",
   "metadata": {},
   "outputs": [],
   "source": [
    "import cloudscraper\n",
    "from bs4 import BeautifulSoup\n",
    "import boto3\n",
    "import json\n",
    "import pandas as pd\n",
    "import csv\n"
   ]
  },
  {
   "cell_type": "code",
   "execution_count": null,
   "id": "95c94d3a",
   "metadata": {},
   "outputs": [],
   "source": [
    "with open('page.html', 'r', encoding='utf-8') as f:\n",
    "    a = f.read()\n"
   ]
  },
  {
   "cell_type": "code",
   "execution_count": null,
   "id": "a6b572ae",
   "metadata": {},
   "outputs": [
    {
     "data": {
      "text/plain": [
       "'<!DOCTYPE html><html class=\"no-js\" lang=\"en-US\"><!--<![endif]--><head>\\n<title>Attention Required! | Cloudflare</title>\\n<meta charset=\"UTF-8\">\\n<meta http-equiv=\"Content-Type\" content=\"text/html; charset=UTF-8\">\\n<meta http-equiv=\"X-UA-Compatible\" content=\"IE=Edge\">\\n<meta name=\"robots\" content=\"noindex, nofollow\">\\n<meta name=\"viewport\" content=\"width=device-width,initial-scale=1\">\\n<link rel=\"stylesheet\" id=\"cf_styles-css\" href=\"/cdn-cgi/styles/cf.errors.css\">\\n<!--[if lt IE 9]><link rel=\"stylesheet\" id=\\'cf_styles-ie-css\\' href=\"/cdn-cgi/styles/cf.errors.ie.css\" /><![endif]-->\\n<style>body{margin:0;padding:0}</style>\\n\\n\\n<!--[if gte IE 10]><!-->\\n<script>\\n  if (!navigator.cookieEnabled) {\\n    window.addEventListener(\\'DOMContentLoaded\\', function () {\\n      var cookieEl = document.getElementById(\\'cookie-alert\\');\\n      cookieEl.style.display = \\'block\\';\\n    })\\n  }\\n</script>\\n<!--<![endif]-->\\n\\n\\n</head>\\n<body>\\n  <div id=\"cf-wrapper\">\\n    <div class=\"cf-alert cf-alert-error cf-cookie-error\" id=\"cookie-alert\" data-translate=\"enable_cookies\">Please enable cookies.</div>\\n    <div id=\"cf-error-details\" class=\"cf-error-details-wrapper\">\\n      <div class=\"cf-wrapper cf-header cf-error-overview\">\\n        <h1 data-translate=\"block_headline\">Sorry, you have been blocked</h1>\\n        <h2 class=\"cf-subheadline\"><span data-translate=\"unable_to_access\">You are unable to access</span> campingworld.com</h2>\\n      </div><!-- /.header -->\\n\\n      <div class=\"cf-section cf-highlight\">\\n        <div class=\"cf-wrapper\">\\n          <div class=\"cf-screenshot-container cf-screenshot-full\">\\n            \\n              <span class=\"cf-no-screenshot error\"></span>\\n            \\n          </div>\\n        </div>\\n      </div><!-- /.captcha-container -->\\n\\n      <div class=\"cf-section cf-wrapper\">\\n        <div class=\"cf-columns two\">\\n          <div class=\"cf-column\">\\n            <h2 data-translate=\"blocked_why_headline\">Why have I been blocked?</h2>\\n\\n            <p data-translate=\"blocked_why_detail\">This website is using a security service to protect itself from online attacks. The action you just performed triggered the security solution. There are several actions that could trigger this block including submitting a certain word or phrase, a SQL command or malformed data.</p>\\n          </div>\\n\\n          <div class=\"cf-column\">\\n            <h2 data-translate=\"blocked_resolve_headline\">What can I do to resolve this?</h2>\\n\\n            <p data-translate=\"blocked_resolve_detail\">You can email the site owner to let them know you were blocked. Please include what you were doing when this page came up and the Cloudflare Ray ID found at the bottom of this page.</p>\\n          </div>\\n        </div>\\n      </div><!-- /.section -->\\n\\n      <div class=\"cf-error-footer cf-wrapper w-240 lg:w-full py-10 sm:py-4 sm:px-8 mx-auto text-center sm:text-left border-solid border-0 border-t border-gray-300\">\\n  <p class=\"text-13\">\\n    <span class=\"cf-footer-item sm:block sm:mb-1\">Cloudflare Ray ID: <strong class=\"font-semibold\">95185e5b9f8d7f19</strong></span>\\n    <span class=\"cf-footer-separator sm:hidden\">•</span>\\n    <span id=\"cf-footer-item-ip\" class=\"cf-footer-item sm:block sm:mb-1\">\\n      Your IP:\\n      <button type=\"button\" id=\"cf-footer-ip-reveal\" class=\"cf-footer-ip-reveal-btn\">Click to reveal</button>\\n      <span class=\"hidden\" id=\"cf-footer-ip\">103.224.34.253</span>\\n      <span class=\"cf-footer-separator sm:hidden\">•</span>\\n    </span>\\n    <span class=\"cf-footer-item sm:block sm:mb-1\"><span>Performance &amp; security by</span> <a rel=\"noopener noreferrer\" href=\"https://www.cloudflare.com/5xx-error-landing\" id=\"brand_link\" target=\"_blank\">Cloudflare</a></span>\\n    \\n  </p>\\n  <script>(function(){function d(){var b=a.getElementById(\"cf-footer-item-ip\"),c=a.getElementById(\"cf-footer-ip-reveal\");b&&\"classList\"in b&&(b.classList.remove(\"hidden\"),c.addEventListener(\"click\",function(){c.classList.add(\"hidden\");a.getElementById(\"cf-footer-ip\").classList.remove(\"hidden\")}))}var a=document;document.addEventListener&&a.addEventListener(\"DOMContentLoaded\",d)})();</script>\\n</div><!-- /.error-footer -->\\n\\n\\n    </div><!-- /#cf-error-details -->\\n  </div><!-- /#cf-wrapper -->\\n\\n  <script>\\n  window._cf_translation = {};\\n  \\n  \\n</script>\\n\\n<script>(function(){function c(){var b=a.contentDocument||a.contentWindow.document;if(b){var d=b.createElement(\\'script\\');d.innerHTML=\"window.__CF$cv$params={r:\\'95185e5b9f8d7f19\\',t:\\'MTc1MDIyNDM1Mi4wMDAwMDA=\\'};var a=document.createElement(\\'script\\');a.nonce=\\'\\';a.src=\\'/cdn-cgi/challenge-platform/scripts/jsd/main.js\\';document.getElementsByTagName(\\'head\\')[0].appendChild(a);\";b.getElementsByTagName(\\'head\\')[0].appendChild(d)}}if(document.body){var a=document.createElement(\\'iframe\\');a.height=1;a.width=1;a.style.position=\\'absolute\\';a.style.top=0;a.style.left=0;a.style.border=\\'none\\';a.style.visibility=\\'hidden\\';document.body.appendChild(a);if(\\'loading\\'!==document.readyState)c();else if(window.addEventListener)document.addEventListener(\\'DOMContentLoaded\\',c);else{var e=document.onreadystatechange||function(){};document.onreadystatechange=function(b){e(b);\\'loading\\'!==document.readyState&&(document.onreadystatechange=e,c())}}}})();</script><iframe height=\"1\" width=\"1\" style=\"position: absolute; top: 0px; left: 0px; border: none; visibility: hidden;\"></iframe>\\n\\n</body></html>'"
      ]
     },
     "execution_count": 34,
     "metadata": {},
     "output_type": "execute_result"
    }
   ],
   "source": [
    "a"
   ]
  },
  {
   "cell_type": "code",
   "execution_count": null,
   "id": "89a9f719",
   "metadata": {},
   "outputs": [],
   "source": [
    "soup = BeautifulSoup(a,'html.parser')\n"
   ]
  },
  {
   "cell_type": "code",
   "execution_count": null,
   "id": "bda81fbc",
   "metadata": {},
   "outputs": [
    {
     "data": {
      "text/plain": [
       "[]"
      ]
     },
     "execution_count": 36,
     "metadata": {},
     "output_type": "execute_result"
    }
   ],
   "source": [
    "soup.select(\"section.MuiCard-root[id^='stock-no-']\")"
   ]
  },
  {
   "cell_type": "markdown",
   "id": "2602f4c3",
   "metadata": {},
   "source": [
    "# scraping purpose"
   ]
  },
  {
   "cell_type": "code",
   "execution_count": 4,
   "id": "b5cad244",
   "metadata": {},
   "outputs": [],
   "source": [
    "df = pd.read_csv('testing.csv')"
   ]
  },
  {
   "cell_type": "code",
   "execution_count": 5,
   "id": "7322263a",
   "metadata": {},
   "outputs": [],
   "source": [
    "# sqs = boto3.client('sqs', region_name='us-east-1')\n",
    "sqs = boto3.client(\n",
    "    'sqs',\n",
    "    region_name='us-east-1',\n",
    "    aws_access_key_id='test',\n",
    "    aws_secret_access_key='test',\n",
    "    endpoint_url='http://localhost:4566'\n",
    ")\n",
    "QUEUE_URL = 'http://sqs.us-east-1.localhost.localstack.cloud:4566/000000000000/webscraping'"
   ]
  },
  {
   "cell_type": "code",
   "execution_count": 54,
   "id": "abd71e17",
   "metadata": {},
   "outputs": [
    {
     "name": "stdout",
     "output_type": "stream",
     "text": [
      "Approximate number of messages in queue: 0\n"
     ]
    }
   ],
   "source": [
    "attrs = sqs.get_queue_attributes(\n",
    "    QueueUrl=QUEUE_URL,\n",
    "    AttributeNames=['ApproximateNumberOfMessages']\n",
    ")\n",
    "num_messages = attrs['Attributes'].get('ApproximateNumberOfMessages', '0')\n",
    "print(f\"Approximate number of messages in queue: {num_messages}\")"
   ]
  },
  {
   "cell_type": "code",
   "execution_count": 7,
   "id": "fa830116",
   "metadata": {},
   "outputs": [],
   "source": [
    "def send_csv_to_queue(csv_file_path):\n",
    "    with open(csv_file_path, mode='r', newline='') as csvfile:\n",
    "        reader = csv.DictReader(csvfile)\n",
    "        for row in reader:\n",
    "            message_body = json.dumps(row)\n",
    "            response = sqs.send_message(QueueUrl=QUEUE_URL, MessageBody=message_body)\n",
    "            # print(f\"Sent message ID: {response['MessageId']}\")\n",
    "\n",
    "csv_path = 'testing.csv'\n",
    "send_csv_to_queue(csv_path)"
   ]
  },
  {
   "cell_type": "code",
   "execution_count": 57,
   "id": "2cdbf075",
   "metadata": {},
   "outputs": [
    {
     "data": {
      "text/plain": [
       "[]"
      ]
     },
     "execution_count": 57,
     "metadata": {},
     "output_type": "execute_result"
    }
   ],
   "source": [
    "sqs.receive_message(QueueUrl=QUEUE_URL,MaxNumberOfMessages=10,WaitTimeSeconds=10).get('Messages',[])"
   ]
  },
  {
   "cell_type": "markdown",
   "id": "b21ffa37",
   "metadata": {},
   "source": [
    "# bucket studd"
   ]
  },
  {
   "cell_type": "code",
   "execution_count": null,
   "id": "fb0ffabe",
   "metadata": {},
   "outputs": [
    {
     "name": "stdout",
     "output_type": "stream",
     "text": [
      "Uploaded testing.csv to s3://rapidious-datalake/esting.csv\n"
     ]
    }
   ],
   "source": [
    "import boto3\n",
    "LOCALSTACK_ENDPOINT = \"http://localhost:4566\"\n",
    "BUCKET_NAME = \"rapidious-datalake\"\n",
    "FILE_PATH = \"testing.csv\"\n",
    "S3_KEY = \"esting.csv\"\n",
    "\n",
    "\n",
    "s3 = boto3.client(\n",
    "    \"s3\",\n",
    "    region_name=\"us-east-1\",\n",
    "    aws_access_key_id=\"test\",       # default LocalStack creds\n",
    "    aws_secret_access_key=\"test\",\n",
    "    endpoint_url=LOCALSTACK_ENDPOINT\n",
    ")\n",
    "\n",
    "with open(FILE_PATH, \"rb\") as f:\n",
    "    s3.put_object(Bucket=BUCKET_NAME, Key=S3_KEY, Body=f)\n",
    "\n",
    "print(f\"Uploaded {FILE_PATH} to s3://{BUCKET_NAME}/{S3_KEY}\")"
   ]
  }
 ],
 "metadata": {
  "kernelspec": {
   "display_name": "spyder",
   "language": "python",
   "name": "python3"
  },
  "language_info": {
   "codemirror_mode": {
    "name": "ipython",
    "version": 3
   },
   "file_extension": ".py",
   "mimetype": "text/x-python",
   "name": "python",
   "nbconvert_exporter": "python",
   "pygments_lexer": "ipython3",
   "version": "3.12.3"
  }
 },
 "nbformat": 4,
 "nbformat_minor": 5
}
